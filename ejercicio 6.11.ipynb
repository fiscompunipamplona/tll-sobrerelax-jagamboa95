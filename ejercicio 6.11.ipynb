{
 "cells": [
  {
   "cell_type": "markdown",
   "metadata": {},
   "source": [
    "Ejercicio 6.11: sobre relajación\n",
    "\n",
    "Si aún no realizó el ejercicio 6.10, debe hacerlo antes de este. El método de relajación ordinario implica iterar la ecuación $x '= f (x)$, comenzando desde una suposición inicial, hasta que converja. Como hemos visto, esta es a menudo una forma rápida y fácil de encontrar soluciones a ecuaciones no lineales. Sin embargo, en algunos casos es posible hacer el método trabaje aún más rápido utilizando la técnica de sobre relajación. Supongamos que nuestra conjetura inicial en la solución de una ecuación particular es, digamos, $x = 1$, y la solución verdadera final es $x = 5$. Después del primer paso del proceso iterativo, podríamos ver un valor de, digamos, $x = 3$. En el método de sobre relajación, observamos este valor y observamos que x está aumentando, luego deliberadamente sobrepasamos el valor calculado valor, con la esperanza de que esto nos acerque a la solución final, en este caso podríamos pasar sobre $x = 3$ e ir directamente a un valor de $x = 4$ quizás, que está más cerca de la solución final de $x = 5$ y, por lo tanto, debería llevarnos a esa solución más rápido. El método de sobre relajación proporciona un fórmula para realizar este tipo de rebosamiento de manera controlada y, a menudo, aunque no siempre, nos lleva a nuestra solución más rápido. En detalle, funciona de la siguiente manera. Podemos reescribir la ecuación $x ′ = f (x)$ en la forma $x ′ = x + ∆x$, donde. \n",
    "\n",
    "$$\\Delta x=x'-x=f(x)-x$$\n",
    "\n",
    "El método de sobre relajación implica la iteración de la ecuación modificada.\n",
    "\n",
    "$$x'=x+(1+w)\\Delta x$$\n",
    "\n",
    "(manteniendo la definición de $∆x$ igual). Si el parámetro $ω$ es cero, entonces es el mismo que el método de relajación ordinario, pero para $ω> 0$ el método toma la cantidad $∆x$ por la cual el valor de $x$ habría cambiado y cambia un poco más. Usando $∆x = f (x) - x$, también podemos escribir $x ′$ como\n",
    "\n",
    "$$x'=x+(1+w)\\left [ f(x)-x \\right ]=(1+w)f(x)-wx$$\n",
    "\n",
    "cual es la forma en que generalmente se escribe.\n",
    "Para que el método funcione, el valor de ω debe elegirse correctamente, aunque hay algo de margen de maniobra: hay un valor óptimo, pero otros valores cercanos también suelen dar buenos resultados. Desafortunadamente, no existe una teoría general que nos diga cuál es el valor óptimo. Por lo general, se encuentra por prueba y error.\n",
    "\n",
    "\n",
    "\n",
    "\n",
    "\n",
    "\n",
    "\n"
   ]
  },
  {
   "cell_type": "markdown",
   "metadata": {},
   "source": [
    "## A)\n",
    "Derive un equivalente de la ecuación. (6.81) para el método de sobre relajación y, por lo tanto, muestra que el error en $x '$, el equivalente de la ecuación. (6.83), viene dado por:\n",
    "\n",
    "$$\\varepsilon'=\\frac{x-x'}{1-1/\\left [ (1+w)f'(x)-w \\right ]}$$\n",
    "\n",
    "Partiendo de la definicion de $x^{*}$\n",
    "$$\n",
    "x^{*}=x'+\\varepsilon'  \\\\\n",
    "$$\n",
    "Ahora, conociendo el valor de $x{}'$ para el metodo de sobrerelajacion\n",
    "\n",
    "$$\n",
    "x'=(1+\\omega)f(x)-\\omega x\n",
    "$$\n",
    "Reemplazando $x{}'$ en $x^{*}$, obtenemos\n",
    "\n",
    "$$\n",
    "x^{*}=(1+\\omega)f(x)-\\omega x+\\varepsilon'\\\\\n",
    "f'(x^{*})=(1+\\omega)f'(x)-\\omega\n",
    "$$\n",
    "Reescribiendo para obtner un estimado de $\\varepsilon' $ Ec.6.83\n",
    "\n",
    "$$\n",
    "\\varepsilon' =\\frac{x-x^{*}}{1-\\frac{1}{f'(x^{*})}}\n",
    "$$\n",
    "Reemplazando los valores encontrados obtenemos$$\n",
    "\\varepsilon'=\\frac{x-x^{*}}{1-\\frac{1}{(1+\\omega)f'(x)-\\omega}}\n",
    "$$"
   ]
  },
  {
   "cell_type": "markdown",
   "metadata": {},
   "source": [
    "## B)\n",
    "b) Considere nuevamente la ecuación $x = 1 - e^{- cx}$ que resolvimos en el ejercicio 6.10. Tome el programa que escribió para la parte (a) de ese ejercicio, que resolvió la ecuación para el caso $c = 2$, y modifíquelo para imprimir el número de iteraciones necesarias para converger en una solución precisa de $10^{ – 6}$."
   ]
  },
  {
   "cell_type": "code",
   "execution_count": 1,
   "metadata": {},
   "outputs": [],
   "source": [
    "from math import tanh,cosh \n",
    "from numpy import linspace ,exp\n",
    "from pylab import plot, show,ylim,xlim,xlabel,ylabel"
   ]
  },
  {
   "cell_type": "code",
   "execution_count": 2,
   "metadata": {
    "scrolled": true
   },
   "outputs": [
    {
     "name": "stdout",
     "output_type": "stream",
     "text": [
      "0.7968113781935964\n",
      "el número de iteraciones realizadas son 15\n"
     ]
    },
    {
     "data": {
      "image/png": "[encoded data removed]",
      "text/plain": [
       "<Figure size 432x288 with 1 Axes>"
      ]
     },
     "metadata": {
      "needs_background": "light"
     },
     "output_type": "display_data"
    }
   ],
   "source": [
    "#constantes \n",
    "c=2.0           #valor de parametro\n",
    "x0=0.5          #valor inicial\n",
    "x=[]            #crea lista\n",
    "accuracy=1e-6   #aproximacion del error\n",
    "error=1.0       #valor inicial del error\n",
    "n=0            #valor inivial de las iteracione\n",
    "\n",
    "while error>accuracy:\n",
    "    x0,x1=1-exp(-c*x0),x0                     # x'\n",
    "    error=abs((x0-x1)/(1-(1/c)*exp(c*x0)))    #e'\n",
    "    n=n+1             # contador de iteraciones\n",
    "    x.append(x0)\n",
    "\n",
    "print(x0)\n",
    "print(\"el número de iteraciones realizadas son\",n)\n",
    "plot(x)\n",
    "show()"
   ]
  },
  {
   "cell_type": "markdown",
   "metadata": {},
   "source": [
    "## c)\n",
    "c) Ahora escriba un nuevo programa (o modifique el anterior) para resolver la misma ecuación $x = 1 - e^{- cx}$ para $c = 2$, nuevamente con una precisión de $10^{- 6}$, pero esta vez usando sobrerelajamiento. Haga que su programa imprima las respuestas que encuentre junto con la cantidad de iteraciones que tomó para encontrarlas. Experimente con diferentes valores de $ω$ para ver qué tan rápido puede lograr que el método converja. Un valor de $ω = 0.5$ es un punto de partida razonable. Con un poco de prueba y error, debería poder hacer que el cálculo converja aproximadamente el doble de rápido que el método de relajación simple, es decir, en aproximadamente la mitad de las iteraciones."
   ]
  },
  {
   "cell_type": "code",
   "execution_count": 3,
   "metadata": {},
   "outputs": [
    {
     "name": "stdout",
     "output_type": "stream",
     "text": [
      "Las soluciones son: [0.6981808382428365, 0.779665884469, 0.7947522513991616, 0.7965838522874732, 0.7967870873179381, 0.796809385868891, 0.7968118293563258, 0.7968120970781651]\n",
      "el número de iteraciones realizadas son 8\n"
     ]
    },
    {
     "data": {
      "image/png": "[encoded data removed]",
      "text/plain": [
       "<Figure size 432x288 with 1 Axes>"
      ]
     },
     "metadata": {
      "needs_background": "light"
     },
     "output_type": "display_data"
    }
   ],
   "source": [
    "#constantes \n",
    "c=2.0             #valor de parametro\n",
    "x0=0.5             #valor inicial\n",
    "x=[]               #crea lista\n",
    "accuracy=1e-6      #aproximacion del error\n",
    "error=1.0          #valor inicial del error\n",
    "m=0           #valor inivial de las iteracione\n",
    "w=0.5        #omega\n",
    "while error>accuracy:\n",
    "    x0,x1= (1+w)*(1-exp(-c*x0))-w*x0 ,x0                       # nuevo x' \n",
    "    error=abs((x0-x1)/(1-(1/(((1+w)*(1/c)*exp(c*x0))-w))))     # ecuacion inciso a) e'\n",
    "    m=m+1                     # contador de iteraciones\n",
    "    x.append(x0)             # guarda en lista\n",
    "\n",
    "print(\"Las soluciones son:\",x)\n",
    "print(\"el número de iteraciones realizadas son\",m)\n",
    "plot(x)\n",
    "show()"
   ]
  },
  {
   "cell_type": "markdown",
   "metadata": {},
   "source": [
    "## D)\n",
    "d) ¿Hay alguna circunstancia bajo la cual usar un valor $ω <0$ nos ayudaría a encontrar una solución más rápido de lo que podemos con el método de relajación ordinario? (Sugerencia: la respuesta es sí, pero ¿por qué?)\n",
    "\n",
    "Se puede obtener una solución más rápida con valores negativos pero esto depende del valor de la solución, es decir, si la solución tiene un valor negativo, por tanto al tener un w < 0 esta tendra menos iteraciones para encontrar la solución."
   ]
  },
  {
   "cell_type": "code",
   "execution_count": null,
   "metadata": {},
   "outputs": [],
   "source": []
  }
 ],
 "metadata": {
  "kernelspec": {
   "display_name": "Python 3",
   "language": "python",
   "name": "python3"
  },
  "language_info": {
   "codemirror_mode": {
    "name": "ipython",
    "version": 3
   },
   "file_extension": ".py",
   "mimetype": "text/x-python",
   "name": "python",
   "nbconvert_exporter": "python",
   "pygments_lexer": "ipython3",
   "version": "3.7.3"
  }
 },
 "nbformat": 4,
 "nbformat_minor": 2
}
